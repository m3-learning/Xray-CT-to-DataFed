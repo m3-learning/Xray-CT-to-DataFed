{
 "cells": [
  {
   "cell_type": "code",
   "execution_count": 6,
   "metadata": {},
   "outputs": [
    {
     "name": "stderr",
     "output_type": "stream",
     "text": [
      "astropy module not found\n"
     ]
    }
   ],
   "source": [
    "import xrmreader\n"
   ]
  },
  {
   "cell_type": "code",
   "execution_count": 12,
   "metadata": {},
   "outputs": [
    {
     "name": "stdout",
     "output_type": "stream",
     "text": [
      "Could not decode filter information.\n",
      "{'facility': None, 'image_width': 1024, 'image_height': 1024, 'data_type': 5, 'number_of_images': 11, 'pixel_size': 12.48303508758545, 'reference_exposure_time': 0.8345602750778198, 'reference_current': 150.01251220703125, 'reference_voltage': 140.0, 'reference_data_type': 5, 'image_data_type': 5, 'thetas': array([ 3.49065867e-05,  1.74532933e-05,  1.12900995e-04,  1.74532933e-05,\n",
      "       -5.23598780e-05,  0.00000000e+00,  1.30899699e-04,  3.49065867e-05,\n",
      "        4.36332344e-05,  1.48352994e-04,  6.10865257e-05]), 'x-shifts': array([0., 0., 0., 0., 0., 0., 0., 0., 0., 0., 0.]), 'y-shifts': array([0., 0., 0., 0., 0., 0., 0., 0., 0., 0., 0.]), 'AMC-x-shifts': None, 'AMC-y-shifts': None, 'temperature-x-shifts': None, 'temperature-y-shifts': None, 'source-x-shifts': None, 'source-y-shifts': None, 'align-mode': array([3]), 'center_shift': None, 'rotation_angle': None, 'source_isocenter_distance': -29.509002685546875, 'detector_isocenter_distance': 132.0023956298828, 'cone_angle': 12.220850944519043, 'fan_angle': 12.220850944519043, 'camera_offset': 0.0, 'source_drift': 0.0, 'current': 150.0, 'voltage': 140.0, 'power': None, 'exposure_time': None, 'binning': None, 'filter': None, 'scaling_min': None, 'scaling_max': None, 'reference': array([[15283, 15244, 15252, ..., 16033, 15954, 15922],\n",
      "       [15442, 15330, 15390, ..., 16221, 16097, 16082],\n",
      "       [15409, 15405, 15379, ..., 16149, 16105, 16094],\n",
      "       ...,\n",
      "       [17014, 16938, 16949, ..., 16938, 16767, 16783],\n",
      "       [16980, 16860, 16894, ..., 16927, 16809, 16869],\n",
      "       [16764, 16727, 16717, ..., 16741, 16664, 16609]], dtype=uint16)}\n"
     ]
    }
   ],
   "source": [
    "projection_data = r'/mnt/c/Users/Joshua Agar/OneDrive - Drexel University/Documents/codes/microct/data/nCT AAA battery/bat_2023-05-23_112100/FFOV_12um/bat_FFOV_12um_Drift.txrm'\n",
    "\n",
    "metadata = xrmreader.read_metadata(projection_data)\n",
    "print(metadata)"
   ]
  },
  {
   "cell_type": "code",
   "execution_count": 13,
   "metadata": {},
   "outputs": [
    {
     "name": "stdout",
     "output_type": "stream",
     "text": [
      "Key: facility, Value: None\n",
      "Key: image_width, Value: 1024\n",
      "Key: image_height, Value: 1024\n",
      "Key: data_type, Value: 5\n",
      "Key: number_of_images, Value: 11\n",
      "Key: pixel_size, Value: 12.48303508758545\n",
      "Key: reference_exposure_time, Value: 0.8345602750778198\n",
      "Key: reference_current, Value: 150.01251220703125\n",
      "Key: reference_voltage, Value: 140.0\n",
      "Key: reference_data_type, Value: 5\n",
      "Key: image_data_type, Value: 5\n",
      "Key: thetas, Value: [ 3.49065867e-05  1.74532933e-05  1.12900995e-04  1.74532933e-05\n",
      " -5.23598780e-05  0.00000000e+00  1.30899699e-04  3.49065867e-05\n",
      "  4.36332344e-05  1.48352994e-04  6.10865257e-05]\n",
      "Key: x-shifts, Value: [0. 0. 0. 0. 0. 0. 0. 0. 0. 0. 0.]\n",
      "Key: y-shifts, Value: [0. 0. 0. 0. 0. 0. 0. 0. 0. 0. 0.]\n",
      "Key: AMC-x-shifts, Value: None\n",
      "Key: AMC-y-shifts, Value: None\n",
      "Key: temperature-x-shifts, Value: None\n",
      "Key: temperature-y-shifts, Value: None\n",
      "Key: source-x-shifts, Value: None\n",
      "Key: source-y-shifts, Value: None\n",
      "Key: align-mode, Value: [3]\n",
      "Key: center_shift, Value: None\n",
      "Key: rotation_angle, Value: None\n",
      "Key: source_isocenter_distance, Value: -29.509002685546875\n",
      "Key: detector_isocenter_distance, Value: 132.0023956298828\n",
      "Key: cone_angle, Value: 12.220850944519043\n",
      "Key: fan_angle, Value: 12.220850944519043\n",
      "Key: camera_offset, Value: 0.0\n",
      "Key: source_drift, Value: 0.0\n",
      "Key: current, Value: 150.0\n",
      "Key: voltage, Value: 140.0\n",
      "Key: power, Value: None\n",
      "Key: exposure_time, Value: None\n",
      "Key: binning, Value: None\n",
      "Key: filter, Value: None\n",
      "Key: scaling_min, Value: None\n",
      "Key: scaling_max, Value: None\n",
      "Key: reference, Value: [[15283 15244 15252 ... 16033 15954 15922]\n",
      " [15442 15330 15390 ... 16221 16097 16082]\n",
      " [15409 15405 15379 ... 16149 16105 16094]\n",
      " ...\n",
      " [17014 16938 16949 ... 16938 16767 16783]\n",
      " [16980 16860 16894 ... 16927 16809 16869]\n",
      " [16764 16727 16717 ... 16741 16664 16609]]\n"
     ]
    }
   ],
   "source": [
    "# Iterating through the dictionary and printing key-value pairs\n",
    "for key, value in metadata.items():\n",
    "    print(f\"Key: {key}, Value: {value}\")"
   ]
  },
  {
   "cell_type": "code",
   "execution_count": null,
   "metadata": {},
   "outputs": [],
   "source": []
  }
 ],
 "metadata": {
  "kernelspec": {
   "display_name": "base",
   "language": "python",
   "name": "python3"
  },
  "language_info": {
   "codemirror_mode": {
    "name": "ipython",
    "version": 3
   },
   "file_extension": ".py",
   "mimetype": "text/x-python",
   "name": "python",
   "nbconvert_exporter": "python",
   "pygments_lexer": "ipython3",
   "version": "3.1.0"
  }
 },
 "nbformat": 4,
 "nbformat_minor": 2
}
